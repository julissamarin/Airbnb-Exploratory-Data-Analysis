{
 "cells": [
  {
   "cell_type": "markdown",
   "metadata": {},
   "source": [
    "### Welcome to the Airbnb Mini Practice Project\n",
    "\n",
    "Throughout this unit on Python Data Analytics, you'be been introduced the the following powerful libraries:\n",
    "\n",
    "<li> Matplotlib </li>\n",
    "<li> Seaborn </li>\n",
    "<li> Pandas </li> \n",
    "    \n",
    "Each of these libraries will enhance your data analysis capabilities.\n",
    "\n",
    "We've created this challenging exercise to reinforce your understanding of how these libraries work. \n",
    "\n",
    "Please note, there is a particular emphasis on the Pandas Library. This is the most critical Python library for data analytics. You'll see many similarities between Pandas and Pivot Tables!\n",
    "    \n",
    "<b> The most important thing you can do to build confidence with Python is to practice programming, all the time. This way you will build muscle memory. Don't simply copy the code you've written previously. Write it again and again so you store it in your memory. </b> \n",
    "\n",
    "<b> As this is a practice exercise, we've included a copy of what the outputs *should* look like for the majority of the questions to give you some guidance. </b>\n",
    "\n",
    "<H3>  Time to get started! </H3>"
   ]
  },
  {
   "cell_type": "markdown",
   "metadata": {},
   "source": [
    "Import the airbnb_2.csv file.\n",
    "\n",
    "Once you do this, you can start your analysis.\n",
    "\n",
    "<b> Don't forget to import the libraries you need to read .csv files! </b> \n",
    "\n"
   ]
  },
  {
   "cell_type": "markdown",
   "metadata": {},
   "source": [
    "### Step 1: <span style=\"color:green\">Import Libraries</span> \n",
    "<b> Put your code in the box below. </b>\n"
   ]
  },
  {
   "cell_type": "code",
   "execution_count": 7,
   "metadata": {},
   "outputs": [],
   "source": [
    "import matplotlib.pyplot as plt\n",
    "import seaborn as sns\n",
    "import pandas as pd "
   ]
  },
  {
   "cell_type": "markdown",
   "metadata": {},
   "source": [
    "### Step 2: <span style=\"color:green\">Import the Airbnb Dataset</span> "
   ]
  },
  {
   "cell_type": "markdown",
   "metadata": {},
   "source": [
    "Now that you have the Pandas Libraries imported, it's time to import the Airbnb dataset.\n",
    "\n",
    "<b> i) Import the Airbnb dataset.\n",
    "\n",
    "ii) Use .info() function to better understand the variables inside your dataset.\n",
    "<p>    \n",
    "\n",
    "<b> Put your code in the box below </b>"
   ]
  },
  {
   "cell_type": "code",
   "execution_count": 8,
   "metadata": {},
   "outputs": [
    {
     "name": "stdout",
     "output_type": "stream",
     "text": [
      "<class 'pandas.core.frame.DataFrame'>\n",
      "RangeIndex: 48895 entries, 0 to 48894\n",
      "Data columns (total 16 columns):\n",
      " #   Column                          Non-Null Count  Dtype  \n",
      "---  ------                          --------------  -----  \n",
      " 0   id                              48895 non-null  int64  \n",
      " 1   name                            48879 non-null  object \n",
      " 2   host_id                         48895 non-null  int64  \n",
      " 3   host_name                       48874 non-null  object \n",
      " 4   neighbourhood_group             48895 non-null  object \n",
      " 5   neighbourhood                   48895 non-null  object \n",
      " 6   latitude                        48895 non-null  float64\n",
      " 7   longitude                       48895 non-null  float64\n",
      " 8   room_type                       48895 non-null  object \n",
      " 9   price                           48895 non-null  int64  \n",
      " 10  minimum_nights                  48895 non-null  int64  \n",
      " 11  number_of_reviews               48895 non-null  int64  \n",
      " 12  last_review                     38843 non-null  object \n",
      " 13  reviews_per_month               38843 non-null  float64\n",
      " 14  calculated_host_listings_count  48895 non-null  int64  \n",
      " 15  availability_365                48895 non-null  int64  \n",
      "dtypes: float64(3), int64(7), object(6)\n",
      "memory usage: 6.0+ MB\n"
     ]
    }
   ],
   "source": [
    "airbnb = (\"airbnb_2.csv\")\n",
    "df = pd.read_csv(airbnb)\n",
    "df.info()"
   ]
  },
  {
   "cell_type": "markdown",
   "metadata": {},
   "source": [
    "### Step 3: <span style=\"color:green\">Exploring your data with Pandas</span> \n",
    "\n",
    "The rest of these questions will have you focus on using the following Pandas Skills:\n",
    "\n",
    "<li> Subsetting a Pandas DataFrame using [] and boolean operators </li>\n",
    "<li> Summing up records with value_counts()</li>\n",
    "<li> Creating calculated fields </li>\n",
    "<li> Group By in Pandas </li> \n",
    "<li> Creating Bar Plots with Matplotlib</li> \n",
    "\n"
   ]
  },
  {
   "cell_type": "markdown",
   "metadata": {},
   "source": [
    "<b> i)  Please count how many Airbnb listings are in each of the 5 Neighbourhood Groups (Manhattan, Brooklyn, Queens, Bronx, Staten Island), then identify which Neighbourhood Groups have the greatest number of Airbnb listings. </b>\n",
    "<p>\n",
    "    <b> Put your code in the box below </b>"
   ]
  },
  {
   "cell_type": "code",
   "execution_count": 16,
   "metadata": {
    "scrolled": false
   },
   "outputs": [
    {
     "name": "stdout",
     "output_type": "stream",
     "text": [
      "neighbourhood_group\n",
      "Bronx              2437\n",
      "Brooklyn          45925\n",
      "Manhattan        277073\n",
      "Queens            23005\n",
      "Staten Island       865\n",
      "Name: calculated_host_listings_count, dtype: int64\n"
     ]
    }
   ],
   "source": [
    "listings = df.groupby(\"neighbourhood_group\")[\"calculated_host_listings_count\"].sum()\n",
    "print(listings)"
   ]
  },
  {
   "cell_type": "markdown",
   "metadata": {},
   "source": [
    "We want to focus our attention on the 3 most popular Neighbourhood Groups, by listing volume.\n",
    "\n",
    "<b> ii) Calculate the percentage of Airbnb listings that each Neighbourhood Group contains. </b>\n",
    "\n",
    "See this resource for more details <a href = https://pandas.pydata.org/pandas-docs/stable/reference/api/pandas.Series.value_counts.html>. </a>\n",
    "\n",
    "<b> Put your code in the box below. </b>"
   ]
  },
  {
   "cell_type": "code",
   "execution_count": 17,
   "metadata": {},
   "outputs": [
    {
     "name": "stdout",
     "output_type": "stream",
     "text": [
      "Manhattan        0.443011\n",
      "Brooklyn         0.411167\n",
      "Queens           0.115881\n",
      "Bronx            0.022313\n",
      "Staten Island    0.007629\n",
      "Name: neighbourhood_group, dtype: float64\n"
     ]
    }
   ],
   "source": [
    "percent = df[\"neighbourhood_group\"].value_counts(normalize=True)\n",
    "print(percent)"
   ]
  },
  {
   "cell_type": "markdown",
   "metadata": {},
   "source": [
    "<b> iii) Create a new calculated field called Revenue and place this into the Airbnb DataFrame. This is to be calculated by using the Price Column x Number_Of_Reviews Columns </b>\n",
    "\n",
    "<b> Put your code in the box below </b>"
   ]
  },
  {
   "cell_type": "code",
   "execution_count": 18,
   "metadata": {},
   "outputs": [
    {
     "name": "stdout",
     "output_type": "stream",
     "text": [
      "<class 'pandas.core.frame.DataFrame'>\n",
      "RangeIndex: 48895 entries, 0 to 48894\n",
      "Data columns (total 17 columns):\n",
      " #   Column                          Non-Null Count  Dtype  \n",
      "---  ------                          --------------  -----  \n",
      " 0   id                              48895 non-null  int64  \n",
      " 1   name                            48879 non-null  object \n",
      " 2   host_id                         48895 non-null  int64  \n",
      " 3   host_name                       48874 non-null  object \n",
      " 4   neighbourhood_group             48895 non-null  object \n",
      " 5   neighbourhood                   48895 non-null  object \n",
      " 6   latitude                        48895 non-null  float64\n",
      " 7   longitude                       48895 non-null  float64\n",
      " 8   room_type                       48895 non-null  object \n",
      " 9   price                           48895 non-null  int64  \n",
      " 10  minimum_nights                  48895 non-null  int64  \n",
      " 11  number_of_reviews               48895 non-null  int64  \n",
      " 12  last_review                     38843 non-null  object \n",
      " 13  reviews_per_month               38843 non-null  float64\n",
      " 14  calculated_host_listings_count  48895 non-null  int64  \n",
      " 15  availability_365                48895 non-null  int64  \n",
      " 16  revenue                         48895 non-null  int64  \n",
      "dtypes: float64(3), int64(8), object(6)\n",
      "memory usage: 6.3+ MB\n"
     ]
    }
   ],
   "source": [
    "df[\"revenue\"] = df[\"price\"] * df[\"number_of_reviews\"]\n",
    "df.info()"
   ]
  },
  {
   "cell_type": "markdown",
   "metadata": {},
   "source": [
    "<b> iv) Create a Bar Plot that shows which Neighbourhood Group has the highest average revenues. In order to best\n",
    "calculate this, you'd want to consider how you can use the .groupby() syntax to assist you! </b>\n",
    "\n",
    "If you're stuck, we recommend you go back to this <a href = https://learn.datacamp.com/courses/manipulating-dataframes-with-pandas> DataCamp link</a>. Specifically, Chapter 4 which covers how GROUP BY is used in Pandas.\n",
    "\n",
    "<b> Put your code in the box below. </b>"
   ]
  },
  {
   "cell_type": "code",
   "execution_count": 19,
   "metadata": {},
   "outputs": [
    {
     "data": {
      "image/png": "[encoded data removed]",
      "text/plain": [
       "<Figure size 432x288 with 1 Axes>"
      ]
     },
     "metadata": {
      "needs_background": "light"
     },
     "output_type": "display_data"
    }
   ],
   "source": [
    "neighbourhood_rev = df.groupby(\"neighbourhood_group\")[\"revenue\"].mean()\n",
    "neighbourhood_rev.plot(kind=\"bar\")\n",
    "plt.show()"
   ]
  },
  {
   "cell_type": "markdown",
   "metadata": {},
   "source": [
    "<h3> <span style=\"color:green\">Challenge Questions</span> </h3>"
   ]
  },
  {
   "cell_type": "markdown",
   "metadata": {},
   "source": [
    "<b> V) Filter the Airbnb DataFrame to include only the Neighbourhood Groups Manhattan, Brooklyn, and Queens. \n",
    "    \n",
    "Then, identify the top 3 Revenue Generating Neighborhoods within each of the 3 Neighbourhood_Groups. This should give us 9 Overall Rows: 3 of the top generating neighbourhoods within each of the 3 Neighbourhood_Groups </b>\n",
    "\n",
    "This is a tricky question that will *test* your group-by skills.\n",
    "\n",
    "We recommend you consider the following:\n",
    "\n",
    "    condition1 = someDataFrame['someColumn']=='someCondition'\n",
    "    condition2 = someDataFrame['someColumn']=='someCondition'\n",
    "    \n",
    "    Step One - Filter the DataFrame using the Conditions\n",
    "    filtered_dataframe = someDataFrame[condition1 OR condition 2] \n",
    "    #Hint: You might want to look up what the OR symbol in Python is represented as in operator form (i.e. AND (&) )\n",
    "    \n",
    "    Step Two - Group the Data by Neighbourhood_Group and Neighbourhood. Don't forget you're looking to SUM up the Revenues.\n",
    "    \n",
    "    The remaining steps we recommend you think very carefully about.\n",
    "    \n",
    "    You might want to make use of the .reset_index(inplace=True) function to help reset the indexes in \n",
    "    your Grouped Up Dataframe...!\n",
    "    \n",
    "    \n",
    "<b> Put your code in the box below. </b>"
   ]
  },
  {
   "cell_type": "code",
   "execution_count": 46,
   "metadata": {},
   "outputs": [
    {
     "name": "stdout",
     "output_type": "stream",
     "text": [
      "   neighbourhood_group       neighbourhood   revenue\n",
      "2            Manhattan              Harlem   8598692\n",
      "3            Manhattan      Hell's Kitchen   8238991\n",
      "4            Manhattan        East Village   7574535\n",
      "0             Brooklyn        Williamsburg  12389011\n",
      "1             Brooklyn  Bedford-Stuyvesant  12352457\n",
      "8             Brooklyn            Bushwick   4762224\n",
      "17              Queens             Astoria   1880840\n",
      "28              Queens    Long Island City   1374945\n",
      "33              Queens            Flushing   1140450\n"
     ]
    }
   ],
   "source": [
    "n_group = df[(df[\"neighbourhood_group\"] == \"Manhattan\") | (df[\"neighbourhood_group\"] == \"Brooklyn\") | (df[\"neighbourhood_group\"] == \"Queens\")]\n",
    "criteria = n_group.groupby([\"neighbourhood_group\", \"neighbourhood\"])[\"revenue\"].sum().sort_values(ascending=False).reset_index()\n",
    "Manhattan = criteria[criteria['neighbourhood_group']=='Manhattan'].head(3)\n",
    "Brooklyn = criteria[criteria['neighbourhood_group']=='Brooklyn'].head(3)\n",
    "Queens = criteria[criteria['neighbourhood_group']=='Queens'].head(3)\n",
    "combined = pd.concat([Manhattan, Brooklyn, Queens])\n",
    "print(combined)"
   ]
  },
  {
   "cell_type": "markdown",
   "metadata": {},
   "source": [
    "<b> VI) Filter the Airbnb Dataframe to include only the top 3 Neighbroos within each neighbourhood_group. \n",
    "    \n",
    "After doing this, identify the top average revenue-generating room-type for each of the nine neighbourhoods and plot this  in a Bar Chart.</b>\n",
    "\n",
    "This is a tricky question that will *test* your group-by skills. Think back to the previous question and how you approached this; you can approach this in a similar manner. \n",
    "\n",
    "We recommend you consider the following:\n",
    "\n",
    "    condition1 = someDataFrame['someColumn']=='someCondition'\n",
    "    condition2 = someDataFrame['someColumn']=='someCondition'\n",
    "    \n",
    "    Step One - Filter the Dataframe using the Conditions\n",
    "    filtered_dataframe = someDataFrame[condition1 OR condition 2] \n",
    "    #Hint: You might want to look up what the OR symbol in Python is represented as in operator form (i.e. AND (&) )\n",
    "    \n",
    "    Step Two - Group the Data by Neighbourhood_Group and Neighbourhood. Don't forget you're looking to SUM up the Revenues.\n",
    "    \n",
    "    The remaining steps we recommend you think very carefully about.\n",
    "    \n",
    "    You might want to make use of the .reset_index(inplace=True) function to help reset the indexes in \n",
    "    your Grouped Up Dataframe...!\n",
    "    \n",
    "    \n",
    " <b> Put your code in the box below. </b>      "
   ]
  },
  {
   "cell_type": "code",
   "execution_count": 85,
   "metadata": {
    "scrolled": true
   },
   "outputs": [
    {
     "data": {
      "image/png": "[encoded data removed]",
      "text/plain": [
       "<Figure size 432x288 with 1 Axes>"
      ]
     },
     "metadata": {
      "needs_background": "light"
     },
     "output_type": "display_data"
    }
   ],
   "source": [
    "ne_group = df[(df[\"neighbourhood\"] == \"Harlem\") | (df[\"neighbourhood\"] == \"Hell's Kitchen\") | (df[\"neighbourhood\"] == \"East Village\") | (df[\"neighbourhood\"] == \"Williamsburg\") | (df[\"neighbourhood\"] == \"Bedford-Stuyvesant\") | (df[\"neighbourhood\"] == \"Bushwick\") | (df[\"neighbourhood\"] == \"Astoria\") | (df[\"neighbourhood\"] == \"Long Island City\") | (df[\"neighbourhood\"] == \"Flushing\")]\n",
    "room_type = ne_group.groupby([\"neighbourhood\", \"room_type\"])[\"revenue\"].mean().sort_values(ascending=False).reset_index().head(9)\n",
    "room_type.plot(kind=\"bar\", x=('neighbourhood'), title=\"Popular Airbnb Neighbourhoods by Room Type\")\n",
    "plt.show()"
   ]
  },
  {
   "cell_type": "code",
   "execution_count": null,
   "metadata": {},
   "outputs": [],
   "source": []
  }
 ],
 "metadata": {
  "kernelspec": {
   "display_name": "Python 3",
   "language": "python",
   "name": "python3"
  },
  "language_info": {
   "codemirror_mode": {
    "name": "ipython",
    "version": 3
   },
   "file_extension": ".py",
   "mimetype": "text/x-python",
   "name": "python",
   "nbconvert_exporter": "python",
   "pygments_lexer": "ipython3",
   "version": "3.8.8"
  }
 },
 "nbformat": 4,
 "nbformat_minor": 4
}
